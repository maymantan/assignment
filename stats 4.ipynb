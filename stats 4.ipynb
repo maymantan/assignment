{
 "cells": [
  {
   "cell_type": "raw",
   "id": "76d1bce8",
   "metadata": {},
   "source": [
    "Problem Statement 1:\n",
    "Is gender independent of education level? A random sample of 395 people were\n",
    "surveyed and each person was asked to report the highest education level they\n",
    "obtained. The data that resulted from the survey is summarized in the following table:\n",
    "High School Bachelors Masters Ph.d. Total\n",
    "Female 60 54 46 41 201\n",
    "Male 40 44 53 57 194\n",
    "Total 100 98 99 98 395\n",
    "Question: Are gender and education level dependent at 5% level of significance? In\n",
    "other words, given the data collected above, is there a relationship between the\n",
    "gender of an individual and the level of education that they have obtained?"
   ]
  },
  {
   "cell_type": "raw",
   "id": "dde4dca1",
   "metadata": {},
   "source": [
    "1.State Null and Alternative Hypothesis\n",
    "Null Hypothesis : there is relationship between gender and education\n",
    "\n",
    "Null Hypothesis : there is no relationship between gender and education\n",
    "\n",
    "2. State significate value α = 0.05\n",
    "3.DOF=(1,6)\n",
    "3. State Decision Rule: \n",
    "    α = 0.05\n",
    "    f table value =5.9874\n",
    "    Rule: if f test > 3.8853, we will reject null Hypothesis "
   ]
  },
  {
   "cell_type": "code",
   "execution_count": 64,
   "id": "d39b820f",
   "metadata": {},
   "outputs": [
    {
     "name": "stdout",
     "output_type": "stream",
     "text": [
      "1 6\n",
      "Will Accept Null Hypothesis\n",
      "Yes there is a relation between gender and education\n"
     ]
    }
   ],
   "source": [
    "f=3.8853 # from f table\n",
    "High_School=[60,40]\n",
    "Bachelors=[54,44]\n",
    "Masters=[46,53]\n",
    "phd=[41,57]\n",
    "N=8\n",
    "n=4\n",
    "a=2\n",
    "T=sum(High_School)+sum(Bachelors)+sum(Masters)+sum(phd)\n",
    "y=[i**2 for i in High_School+Bachelors+Masters+phd]\n",
    "dof_between=a-1\n",
    "dof_within=N-a\n",
    "print(dof_between,dof_within)\n",
    "ss_between=(sum([((sum(a)**2)) for a in [High_School,Bachelors,Masters,phd]])/n)-(T**2)/N\n",
    "ss_within=sum(y)-sum([(sum(a)**2)/n for a in [High_School,Bachelors,Masters,phd]])\n",
    "mean_sq_between=ss_between/dof_between\n",
    "mean_sq_within=ss_within/dof_within\n",
    "F=mean_sq_between/mean_sq_within\n",
    "if F>f:\n",
    "    print(\"will reject null hypotheis\")\n",
    "    print(\"No, there is no a relation between gender and education\")\n",
    "else:\n",
    "    print('Will Accept Null Hypothesis')\n",
    "    print(\"Yes there is a relation between gender and education\")\n",
    "    \n",
    "    \n",
    "\n"
   ]
  },
  {
   "cell_type": "raw",
   "id": "19057774",
   "metadata": {},
   "source": [
    "Problem Statement 2:\n",
    "Using the following data, perform a oneway analysis of variance using α=.05. Write\n",
    "up the results in APA format.\n",
    "\n",
    "[Group1: 51, 45, 33, 45, 67]\n",
    "[Group2: 23, 43, 23, 43, 45]\n",
    "[Group3: 56, 76, 74, 87, 56]"
   ]
  },
  {
   "cell_type": "raw",
   "id": "75fd4536",
   "metadata": {},
   "source": [
    "1.State Null and Alternative Hypothesis\n",
    "Null Hypothesis : mean of Group1, Group2 and Group3 are same\n",
    "\n",
    "Null Hypothesis : mean of Group1, Group2 and Group3 are not same\n",
    "2. State significate value α = 0.05\n",
    "3.DOF=(2,12)\n",
    "3. State Decision Rule: \n",
    "    α = 0.05\n",
    "    f table value = 3.8853\n",
    "    Rule: if f test > 3.8853, we will reject null Hypothesis "
   ]
  },
  {
   "cell_type": "code",
   "execution_count": 53,
   "id": "9083de26",
   "metadata": {},
   "outputs": [
    {
     "name": "stdout",
     "output_type": "stream",
     "text": [
      "2 12\n",
      "will reject null hypotheis\n"
     ]
    },
    {
     "data": {
      "text/plain": [
       "'APA : F(2,12)=3.8853 ,p<0.05, effective size: 0.6189800152888492'"
      ]
     },
     "execution_count": 53,
     "metadata": {},
     "output_type": "execute_result"
    }
   ],
   "source": [
    "f=3.8853 # from f table\n",
    "Group1=[51, 45, 33, 45, 67]\n",
    "Group2=[23, 43, 23, 43, 45]\n",
    "Group3=[56, 76, 74, 87, 56]\n",
    "N=15\n",
    "n=5\n",
    "a=3\n",
    "T=sum(Group1)+sum(Group2)+sum(Group3)\n",
    "y=[i**2 for i in Group1+Group2+Group3]\n",
    "dof_between=a-1\n",
    "dof_within=N-a\n",
    "print(dof_between,dof_within)\n",
    "ss_between=(sum([((sum(a)**2)) for a in [Group1,Group2,Group3]])/n)-(T**2)/N\n",
    "ss_within=sum(y)-sum([(sum(a)**2)/n for a in [Group1,Group2,Group3]])\n",
    "mean_sq_between=ss_between/dof_between\n",
    "mean_sq_within=ss_within/dof_within\n",
    "F=mean_sq_between/mean_sq_within\n",
    "if F>f:\n",
    "    print(\"will reject null hypotheis\")\n",
    "else:\n",
    "    print('Will Accept Null Hypothesis')\n",
    "    \n",
    "'APA : F({a},{b})={c} ,p<0.05, effective size: {d}'.format(a=dof_between,b=dof_within,c=f,d=ss_between/(ss_between+ss_within))\n"
   ]
  },
  {
   "cell_type": "raw",
   "id": "27ae040c",
   "metadata": {},
   "source": [
    "Problem Statement 3:\n",
    "Calculate F Test for given 10, 20, 30, 40, 50 and 5,10,15, 20, 25.\n",
    "For 10, 20, 30, 40, 50:"
   ]
  },
  {
   "cell_type": "code",
   "execution_count": 56,
   "id": "ccd7bf4d",
   "metadata": {},
   "outputs": [
    {
     "data": {
      "text/plain": [
       "4.0"
      ]
     },
     "execution_count": 56,
     "metadata": {},
     "output_type": "execute_result"
    }
   ],
   "source": [
    "import statistics as stat\n",
    "data_1=[10, 20, 30, 40, 50]\n",
    "data_2=[5,10,15, 20, 25]\n",
    "f=stat.variance(data_1)/stat.variance(data_2)\n",
    "f"
   ]
  },
  {
   "cell_type": "code",
   "execution_count": null,
   "id": "636117e3",
   "metadata": {},
   "outputs": [],
   "source": []
  }
 ],
 "metadata": {
  "kernelspec": {
   "display_name": "Python 3",
   "language": "python",
   "name": "python3"
  },
  "language_info": {
   "codemirror_mode": {
    "name": "ipython",
    "version": 3
   },
   "file_extension": ".py",
   "mimetype": "text/x-python",
   "name": "python",
   "nbconvert_exporter": "python",
   "pygments_lexer": "ipython3",
   "version": "3.8.8"
  }
 },
 "nbformat": 4,
 "nbformat_minor": 5
}
