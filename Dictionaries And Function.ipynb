{
 "cells": [
  {
   "cell_type": "markdown",
   "id": "9e7f3aa4",
   "metadata": {},
   "source": [
    "1.1 Write a Python Program(with class concepts) to find the area of the triangle using the below\n",
    "formula.\n",
    "area = (s*(s-a)*(s-b)*(s-c)) ** 0.5\n",
    "Function to take the length of the sides of triangle from user should be defined in the parent\n",
    "class and function to calculate the area should be defined in subclass."
   ]
  },
  {
   "cell_type": "code",
   "execution_count": 7,
   "id": "f848be81",
   "metadata": {},
   "outputs": [],
   "source": [
    "class triangle:\n",
    "    def __init__(self,a,b,c):\n",
    "            self.a=a\n",
    "            self.b=b\n",
    "            self.c=c\n",
    "        \n",
    "class measurements(triangle):\n",
    "    def __init__(self,*args):\n",
    "        super(measurements,self).__init__(*args)\n",
    "        \n",
    "    def area(self):\n",
    "        s=(self.a+self.b+self.c)/2\n",
    "        area=(s*(s-self.a)*(s-self.b)*(s-self.c)) ** 0.5\n",
    "        return area\n",
    "        "
   ]
  },
  {
   "cell_type": "code",
   "execution_count": 9,
   "id": "c9761ef7",
   "metadata": {},
   "outputs": [
    {
     "data": {
      "text/plain": [
       "389.7114317029974"
      ]
     },
     "execution_count": 9,
     "metadata": {},
     "output_type": "execute_result"
    }
   ],
   "source": [
    "meas=measurements(30,30,30)\n",
    "meas.area()"
   ]
  },
  {
   "cell_type": "raw",
   "id": "6b4d74a5",
   "metadata": {},
   "source": [
    "1.2 Write a function filter_long_words() that takes a list of words and an integer n and returns\n",
    "the list of words that are longer than n."
   ]
  },
  {
   "cell_type": "code",
   "execution_count": 12,
   "id": "beecd60f",
   "metadata": {},
   "outputs": [],
   "source": [
    "def filter_long_words(words_list,n):\n",
    "    return [i for i in words_list if len(i)>n]"
   ]
  },
  {
   "cell_type": "code",
   "execution_count": 17,
   "id": "7ec5cd04",
   "metadata": {},
   "outputs": [
    {
     "name": "stdout",
     "output_type": "stream",
     "text": [
      "['manish', 'man', 'parul', 'tan']\n"
     ]
    }
   ],
   "source": [
    "longer_word=filter_long_words([\"manish\",\"man\",\"parul\",\"tan\"],2)"
   ]
  },
  {
   "cell_type": "raw",
   "id": "8c5b625b",
   "metadata": {},
   "source": [
    "2.1 Write a Python program using function concept that maps list of words into a list of integers\n",
    "representing the lengths of the corresponding words.\n",
    "Hint: If a list [ ab,cde,erty] is passed on to the python function output should come as [2,3,4]\n",
    "Here 2,3 and 4 are the lengths of the words in the list."
   ]
  },
  {
   "cell_type": "code",
   "execution_count": 20,
   "id": "0a3bcfd9",
   "metadata": {},
   "outputs": [],
   "source": [
    "def len_list(ln):\n",
    "    return [len(i) for i in ln]"
   ]
  },
  {
   "cell_type": "code",
   "execution_count": 21,
   "id": "44b6cef9",
   "metadata": {},
   "outputs": [
    {
     "data": {
      "text/plain": [
       "[6, 3, 5, 3]"
      ]
     },
     "execution_count": 21,
     "metadata": {},
     "output_type": "execute_result"
    }
   ],
   "source": [
    "len_list([\"manish\",\"man\",\"parul\",\"tan\"])"
   ]
  },
  {
   "cell_type": "raw",
   "id": "60645736",
   "metadata": {},
   "source": [
    "2.2 Write a Python function which takes a character (i.e. a string of length 1) and returns True if\n",
    "it is a vowel, False otherwise."
   ]
  },
  {
   "cell_type": "code",
   "execution_count": 28,
   "id": "9bf91a3a",
   "metadata": {},
   "outputs": [],
   "source": [
    "def is_vowel(a):\n",
    "    vowel=['a','e','i','o','u','A','E','I','O','U']\n",
    "    if len(a)==1:\n",
    "        if a in vowel:\n",
    "            return True\n",
    "        else:\n",
    "            return False"
   ]
  },
  {
   "cell_type": "code",
   "execution_count": 29,
   "id": "f65aa38a",
   "metadata": {},
   "outputs": [
    {
     "data": {
      "text/plain": [
       "False"
      ]
     },
     "execution_count": 29,
     "metadata": {},
     "output_type": "execute_result"
    }
   ],
   "source": [
    "is_vowel('d')"
   ]
  },
  {
   "cell_type": "code",
   "execution_count": null,
   "id": "df3539d9",
   "metadata": {},
   "outputs": [],
   "source": []
  }
 ],
 "metadata": {
  "kernelspec": {
   "display_name": "Python 3",
   "language": "python",
   "name": "python3"
  },
  "language_info": {
   "codemirror_mode": {
    "name": "ipython",
    "version": 3
   },
   "file_extension": ".py",
   "mimetype": "text/x-python",
   "name": "python",
   "nbconvert_exporter": "python",
   "pygments_lexer": "ipython3",
   "version": "3.8.8"
  }
 },
 "nbformat": 4,
 "nbformat_minor": 5
}
