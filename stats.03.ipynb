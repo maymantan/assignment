{
 "cells": [
  {
   "cell_type": "raw",
   "id": "cc1f6451",
   "metadata": {},
   "source": [
    "Problem Statement 1:\n",
    "Blood glucose levels for obese patients have a mean of 100 with a standard deviation of\n",
    "15. A researcher thinks that a diet high in raw cornstarch will have a positive effect on\n",
    "blood glucose levels. A sample of 36 patients who have tried the raw cornstarch diet\n",
    "have a mean glucose level of 108. Test the hypothesis that the raw cornstarch had an\n",
    "effect or not."
   ]
  },
  {
   "cell_type": "code",
   "execution_count": 2,
   "id": "d1fa2ab8",
   "metadata": {},
   "outputs": [],
   "source": [
    "pop_mean=100\n",
    "pop_std=15\n",
    "n=36\n",
    "sample_mean=108\n",
    "sign=0.05"
   ]
  },
  {
   "cell_type": "raw",
   "id": "3ac70b97",
   "metadata": {},
   "source": [
    "1.State Null and Alternative Hypothesis\n",
    "Null Hypothesis : pop mean = 100\n",
    "\n",
    "Null Hypothesis : pop mean != 100\n",
    "2. State significate value α = 0.05\n",
    "3. State Decision Rule: as we have population std deviation and n>=30 we do Z test and two tail test\n",
    "    α = 0.05/2 = 0.025\n",
    "    z table value = 1.96\n",
    "    Rule: if Z > 1.96, we will reject null Hypothesis "
   ]
  },
  {
   "cell_type": "code",
   "execution_count": 10,
   "id": "e669a1eb",
   "metadata": {},
   "outputs": [
    {
     "name": "stdout",
     "output_type": "stream",
     "text": [
      "Z value is:  68.0\n",
      "Reject null hypothesis \n",
      "raw cornstrach had positive effect\n"
     ]
    }
   ],
   "source": [
    "z=1.96\n",
    "std_error=pop_std/n**0.5\n",
    "Z=sample_mean-pop_mean/std_error\n",
    "print('Z value is: ',Z)\n",
    "if Z>z:\n",
    "    print('Reject null hypothesis \\nraw cornstrach had positive effect')\n",
    "else:\n",
    "    print('Reject null hypothesis \\nraw cornstrach had no effect')"
   ]
  },
  {
   "cell_type": "raw",
   "id": "427fc312",
   "metadata": {},
   "source": [
    "Problem Statement 2:\n",
    "In one state, 52% of the voters are Republicans, and 48% are Democrats. In a second\n",
    "state, 47% of the voters are Republicans, and 53% are Democrats. Suppose a simple\n",
    "random sample of 100 voters are surveyed from each state.\n",
    "What is the probability that the survey will show a greater percentage of Republican\n",
    "voters in the second state than in the first state?"
   ]
  },
  {
   "cell_type": "raw",
   "id": "234ec5a4",
   "metadata": {},
   "source": [
    "\t    Republicans\tDemocrats\n",
    "State 1\t52\t        48\n",
    "State 2\t47\t        53\n"
   ]
  },
  {
   "cell_type": "raw",
   "id": "2cb1581e",
   "metadata": {},
   "source": [
    "1.State Null and Alternative Hypothesis\n",
    "Null Hypothesis : there is no change in percentage of Republican voters\n",
    "\n",
    "Null Hypothesis : there is change in percentage of Republican voters\n",
    "2. State significate value α = 0.05\n",
    "3.DOF=n-1=2-1=1\n",
    "3. State Decision Rule: as we have 2 caterogies so we do chi square test\n",
    "    α = 0.05\n",
    "    chi square table value = 3.841\n",
    "    Rule: if CHI > 3.841, we will reject null Hypothesis "
   ]
  },
  {
   "cell_type": "code",
   "execution_count": 14,
   "id": "385d6a12",
   "metadata": {},
   "outputs": [
    {
     "name": "stdout",
     "output_type": "stream",
     "text": [
      "1.0036130068245686\n",
      "we will accept null Hypothesis \n"
     ]
    }
   ],
   "source": [
    "chi=3.841\n",
    "state1=[52,48]\n",
    "state2=[47,53]\n",
    "CHI=sum([((o-e)**2)/e for o,e in zip(state1,state2)])\n",
    "print(CHI)\n",
    "if CHI>=chi:\n",
    "    print(\"we will reject null Hypothesis\")\n",
    "else:\n",
    "    print(\"we will accept null Hypothesis \")"
   ]
  },
  {
   "cell_type": "raw",
   "id": "9444f848",
   "metadata": {},
   "source": [
    "Problem Statement 3:\n",
    "You take the SAT and score 1100. The mean score for the SAT is 1026 and the standard\n",
    "deviation is 209. How well did you score on the test compared to the average test taker?"
   ]
  },
  {
   "cell_type": "code",
   "execution_count": 18,
   "id": "20072699",
   "metadata": {},
   "outputs": [
    {
     "name": "stdout",
     "output_type": "stream",
     "text": [
      "I did  35.406698564593306 % of average taker\n"
     ]
    }
   ],
   "source": [
    "pop_mean=1026\n",
    "pop_std=209\n",
    "x_mean=1100\n",
    "z=(x_mean-pop_mean)/pop_std\n",
    "print(\"I did \",z*100,'% of average taker')"
   ]
  },
  {
   "cell_type": "code",
   "execution_count": null,
   "id": "d4431ab4",
   "metadata": {},
   "outputs": [],
   "source": []
  }
 ],
 "metadata": {
  "kernelspec": {
   "display_name": "Python 3",
   "language": "python",
   "name": "python3"
  },
  "language_info": {
   "codemirror_mode": {
    "name": "ipython",
    "version": 3
   },
   "file_extension": ".py",
   "mimetype": "text/x-python",
   "name": "python",
   "nbconvert_exporter": "python",
   "pygments_lexer": "ipython3",
   "version": "3.8.8"
  }
 },
 "nbformat": 4,
 "nbformat_minor": 5
}
