{
 "cells": [
  {
   "cell_type": "raw",
   "id": "98ee9e99",
   "metadata": {},
   "source": [
    "Problem Statement 1:\n",
    "The marks awarded for an assignment set for a Year 8 class of 20 students were as\n",
    "follows:\n",
    "6 7 5 7 7 8 7 6 9 7 4 10 6 8 8 9 5 6 4 8"
   ]
  },
  {
   "cell_type": "raw",
   "id": "19db2394",
   "metadata": {},
   "source": [
    "Calculate the mean, median, mode and standard deviation for the problem\n",
    "statements 1& 2."
   ]
  },
  {
   "cell_type": "code",
   "execution_count": 2,
   "id": "6c9d329f",
   "metadata": {},
   "outputs": [],
   "source": [
    "import statistics as st"
   ]
  },
  {
   "cell_type": "code",
   "execution_count": 3,
   "id": "75a99b59",
   "metadata": {},
   "outputs": [],
   "source": [
    "data=[6,7,5,7,7,8,7,6,9,7,4,10,6,8,8,9,5,6,4,8]"
   ]
  },
  {
   "cell_type": "code",
   "execution_count": 6,
   "id": "0bdcb645",
   "metadata": {},
   "outputs": [
    {
     "name": "stdout",
     "output_type": "stream",
     "text": [
      "Mean:  6.85\n",
      "Median:  7.0\n",
      "Mode:  7\n",
      "Standard Deviation:  1.6311119875071343\n"
     ]
    }
   ],
   "source": [
    "print('Mean: ',st.mean(data))\n",
    "print('Median: ',st.median(data))\n",
    "print('Mode: ',st.mode(data))\n",
    "print('Standard Deviation: ',st.stdev(data))\n"
   ]
  },
  {
   "cell_type": "raw",
   "id": "0fb881ec",
   "metadata": {},
   "source": [
    "Problem Statement 2:\n",
    "The number of calls from motorists per day for roadside service was recorded for a\n",
    "particular month:\n",
    "28, 122, 217, 130, 120, 86, 80, 90, 140, 120, 70, 40, 145, 113, 90, 68, 174, 194, 170,\n",
    "100, 75, 104, 97, 75,\n",
    "123, 100, 75, 104, 97, 75, 123, 100, 89, 120, 109"
   ]
  },
  {
   "cell_type": "code",
   "execution_count": 7,
   "id": "ad6b5d31",
   "metadata": {},
   "outputs": [],
   "source": [
    "data_1=[28, 122, 217, 130, 120, 86, 80, 90, 140, 120, 70, 40, 145, 113, 90, 68, 174, 194, 170,\n",
    "100, 75, 104, 97, 75,\n",
    "123, 100, 75, 104, 97, 75, 123, 100, 89, 120, 109]"
   ]
  },
  {
   "cell_type": "code",
   "execution_count": 8,
   "id": "7f73f9af",
   "metadata": {},
   "outputs": [
    {
     "name": "stdout",
     "output_type": "stream",
     "text": [
      "Mean:  107.51428571428572\n",
      "Median:  100\n",
      "Mode:  75\n",
      "Standard Deviation:  39.33892805484412\n"
     ]
    }
   ],
   "source": [
    "print('Mean: ',st.mean(data_1))\n",
    "print('Median: ',st.median(data_1))\n",
    "print('Mode: ',st.mode(data_1))\n",
    "print('Standard Deviation: ',st.stdev(data_1))"
   ]
  },
  {
   "cell_type": "raw",
   "id": "141ddd29",
   "metadata": {},
   "source": [
    "Problem Statement 3:\n",
    "The number of times I go to the gym in weekdays, are given below along with its\n",
    "associated probability:\n",
    "x = 0, 1, 2, 3, 4, 5\n",
    "f(x) = 0.09, 0.15, 0.40, 0.25, 0.10, 0.01\n",
    "Calculate the mean no. of workouts in a week. Also evaluate the variance involved in\n",
    "it."
   ]
  },
  {
   "cell_type": "code",
   "execution_count": 23,
   "id": "8f5f1d14",
   "metadata": {},
   "outputs": [
    {
     "name": "stdout",
     "output_type": "stream",
     "text": [
      "Mean:  2.15\n",
      "Variance 1.2275\n"
     ]
    }
   ],
   "source": [
    "x = [0, 1, 2, 3, 4, 5]\n",
    "y= [0.09, 0.15, 0.40, 0.25, 0.10, 0.01]\n",
    "mean=sum([x[i]*y[i] for i in range(0,len(x))])\n",
    "variance=sum([((mean-x[i])**2)*y[i] for i in range(0,len(x))])\n",
    "print('Mean: ',mean)\n",
    "print('Variance',variance)"
   ]
  },
  {
   "cell_type": "raw",
   "id": "c3c6dbf0",
   "metadata": {},
   "source": [
    "Problem Statement 4:\n",
    "Let the continuous random variable D denote the diameter of the hole drilled in an\n",
    "aluminum sheet. The target diameter to be achieved is 12.5mm. Random\n",
    "disturbances in the process often result in inaccuracy.\n",
    "Historical data shows that the distribution of D can be modelled by the PDF (d) =\n",
    "20e−20(d−12.5), d ≥ 12.5. If a part with diameter > 12.6 mm needs to be scrapped,\n",
    "what is the proportion of those parts? What is the CDF when the diameter is of 11\n",
    "mm? What is your conclusion regarding the proportion of scraps?"
   ]
  },
  {
   "cell_type": "raw",
   "id": "97719cdf",
   "metadata": {},
   "source": [
    "pdf=20e−20(d−12.5)\n",
    "for proportion d>12.6 we need to integrate pdf for 12.6 to ∞ \n",
    "so after intergration we got 0.135\n",
    "as d>=12.5 so CDF = 0 for d=11\n",
    "conclusion: proportion of scraps can be taken out for any diameter greater the 12.5 from integration of pdf \n",
    "\n"
   ]
  },
  {
   "cell_type": "raw",
   "id": "4837071f",
   "metadata": {},
   "source": [
    "Problem Statement 5:\n",
    "\n",
    "A company manufactures LED bulbs with a faulty rate of 30%. If I randomly select 6\n",
    "chosen LEDs, what is the probability of having 2 faulty LEDs in my sample?\n",
    "Calculate the average value of this process. Also evaluate the standard deviation\n",
    "associated with it."
   ]
  },
  {
   "cell_type": "code",
   "execution_count": 36,
   "id": "6875a2b2",
   "metadata": {},
   "outputs": [
    {
     "name": "stdout",
     "output_type": "stream",
     "text": [
      "Probability:  0.32413499999999995\n",
      "Mean:  1.7999999999999998\n",
      "std:  1.1224972160321822\n"
     ]
    }
   ],
   "source": [
    "from scipy.stats import binom\n",
    "n=6\n",
    "r=2\n",
    "p=0.3\n",
    "bi=binom.pmf(k=2,n=6,p=0.3)\n",
    "mean,var=binom.stats(n,p)\n",
    "print('Probability: ',bi)\n",
    "print('Mean: ',mean)\n",
    "print('std: ',var**0.5)"
   ]
  },
  {
   "cell_type": "raw",
   "id": "221be3d1",
   "metadata": {},
   "source": [
    "Problem Statement 6:\n",
    "\n",
    "Gaurav and Barakha are both preparing for entrance exams. Gaurav attempts to\n",
    "solve 8 questions per day with a correction rate of 75%, while Barakha averages\n",
    "around 12 questions per day with a correction rate of 45%. What is the probability\n",
    "that each of them will solve 5 questions correctly? What happens in cases of 4 and 6\n",
    "correct solutions? What do you infer from it? What are the two main governing\n",
    "factors affecting their ability to solve questions correctly? Give a pictorial\n",
    "representation of the same to validate your answer."
   ]
  },
  {
   "cell_type": "code",
   "execution_count": 61,
   "id": "8f6a856c",
   "metadata": {},
   "outputs": [
    {
     "name": "stdout",
     "output_type": "stream",
     "text": [
      "probability of Gaurav for 5 correct ans:  0.20764160156250022\n",
      "probability of Barakha for 5 correct ans:  0.22249823843265792\n",
      "probability of Gaurav for 4 correct ans:  0.08651733398437506\n",
      "probability of Barakha for 6 correct ans:  0.21238468214026424\n"
     ]
    },
    {
     "data": {
      "text/plain": [
       "<BarContainer object of 13 artists>"
      ]
     },
     "execution_count": 61,
     "metadata": {},
     "output_type": "execute_result"
    },
    {
     "data": {
      "image/png": "[encoded data removed]",
      "text/plain": [
       "<Figure size 1440x720 with 2 Axes>"
      ]
     },
     "metadata": {
      "needs_background": "light"
     },
     "output_type": "display_data"
    }
   ],
   "source": [
    "from scipy.stats import binom\n",
    "import numpy as np\n",
    "import matplotlib.pyplot as plt\n",
    "gaurav_n=8\n",
    "barakha_n=12\n",
    "r=5\n",
    "gaurav_p=0.75\n",
    "barakha_p=0.45\n",
    "gaurav_bi=binom.pmf(k=5,n=gaurav_n,p=gaurav_p)\n",
    "print( 'probability of Gaurav for 5 correct ans: ',gaurav_bi)\n",
    "barakha_bi=binom.pmf(k=5,n=barakha_n,p=barakha_p)\n",
    "print( 'probability of Barakha for 5 correct ans: ',barakha_bi)\n",
    "gaurav_bi_01=binom.pmf(k=4,n=gaurav_n,p=gaurav_p)\n",
    "print( 'probability of Gaurav for 4 correct ans: ',gaurav_bi_01)\n",
    "barakha_bi_01=binom.pmf(k=6,n=barakha_n,p=barakha_p)\n",
    "print( 'probability of Barakha for 6 correct ans: ',barakha_bi_01)\n",
    "\n",
    "value_gaurav=range(gaurav_n+1)\n",
    "value_barakha=range(barakha_n+1)\n",
    "bio_gaurav=[binom.pmf(r,gaurav_n,gaurav_p) for r in value_gaurav]\n",
    "bio_barakha=[binom.pmf(r,barakha_n,barakha_p) for r in value_barakha]\n",
    "fig=plt.figure(figsize=(20,10))\n",
    "plt.subplot(1, 2, 1)\n",
    "plt.title(\"Gaurav Distribution\")\n",
    "plt.ylabel('Pobability')\n",
    "plt.xlabel('Number of questions')\n",
    "plt.bar(value_gaurav,bio_gaurav)\n",
    "plt.subplot(1, 2, 2)\n",
    "plt.title(\"Gaurav Distribution\")\n",
    "plt.ylabel('Pobability')\n",
    "plt.xlabel('Number of questions')\n",
    "plt.bar(value_barakha,bio_barakha)"
   ]
  },
  {
   "cell_type": "raw",
   "id": "b292ffea",
   "metadata": {},
   "source": [
    "Problem Statement 7:\n",
    "\n",
    "Customers arrive at a rate of 72 per hour to my shop. What is the probability of k\n",
    "customers arriving in 4 minutes? a) 5 customers, b) not more than 3 customers, c)\n",
    "more than 3 customers. Give a pictorial representation of the same to validate your\n",
    "answer."
   ]
  },
  {
   "cell_type": "code",
   "execution_count": 77,
   "id": "e79e9503",
   "metadata": {},
   "outputs": [
    {
     "name": "stdout",
     "output_type": "stream",
     "text": [
      "probability of 5 customers:  0.17474768364388296\n",
      "probability of not more than 3 customers:  0.29422991649656405\n",
      "probability of more than 3 customers:  0.705770083503436\n"
     ]
    },
    {
     "data": {
      "text/plain": [
       "<AxesSubplot:ylabel='Count'>"
      ]
     },
     "execution_count": 77,
     "metadata": {},
     "output_type": "execute_result"
    },
    {
     "data": {
      "image/png": "[encoded data removed]",
      "text/plain": [
       "<Figure size 432x288 with 1 Axes>"
      ]
     },
     "metadata": {
      "needs_background": "light"
     },
     "output_type": "display_data"
    }
   ],
   "source": [
    "from scipy.stats import poisson\n",
    "import seaborn as sns\n",
    "prob_5=poisson.pmf(k=5,mu=(72*4)/60)\n",
    "print(\"probability of 5 customers: \",prob_5)\n",
    "\n",
    "prob_notmorethan_3=sum([poisson.pmf(k=x,mu=(72*4)/60) for x in range(0,4)])\n",
    "print(\"probability of not more than 3 customers: \",prob_lessthan_3)\n",
    "\n",
    "prob_morethan_3=1-prob_notmorethan_3\n",
    "print(\"probability of more than 3 customers: \",prob_morethan_3)\n",
    "\n",
    "data=poisson.rvs(mu=(72*4)/60,size=200)\n",
    "sns.histplot(data)"
   ]
  },
  {
   "cell_type": "raw",
   "id": "b8afeb60",
   "metadata": {},
   "source": [
    "Problem Statement 8:\n",
    "\n",
    "I work as a data analyst in Aeon Learning Pvt. Ltd. After analyzing data, I make\n",
    "reports, where I have the efficiency of entering 77 words per minute with 6 errors per\n",
    "hour. What is the probability that I will commit 2 errors in a 455-word financial report?\n",
    "What happens when the no. of words increases/decreases (in case of 1000 words,\n",
    "255 words)?\n",
    "How is the λ affected?\n",
    "How does it influence the PMF?\n",
    "Give a pictorial representation of the same to validate your answer."
   ]
  },
  {
   "cell_type": "code",
   "execution_count": 95,
   "id": "586843e4",
   "metadata": {},
   "outputs": [
    {
     "name": "stdout",
     "output_type": "stream",
     "text": [
      "Probability for 455 words:  0.09369581787748482\n",
      "Probability for 1000 words:  0.23012815007300153\n",
      "Probability for 255 words:  0.039377135392854125\n",
      "with increase in lambda probability increases\n"
     ]
    }
   ],
   "source": [
    "from scipy.stats import poisson\n",
    "\n",
    "error_per_min=6/60\n",
    "error_445=445/77\n",
    "error_per_word_per_min=error_445*error_per_min\n",
    "prob_455=poisson.pmf(k=2,mu=error_per_word_per_min)\n",
    "print(\"Probability for 455 words: \",prob_455)\n",
    "\n",
    "error_1000=1000/77\n",
    "e1=error_1000*error_per_min\n",
    "prob_1000=poisson.pmf(k=2,mu=e1)\n",
    "print(\"Probability for 1000 words: \",prob_1000)\n",
    "\n",
    "error_255=255/77\n",
    "e2=error_255*error_per_min\n",
    "prob_255=poisson.pmf(k=2,mu=e2)\n",
    "print(\"Probability for 255 words: \",prob_255)\n",
    "\n",
    "print(\"with increase in lambda probability increases\")"
   ]
  },
  {
   "cell_type": "raw",
   "id": "e535144c",
   "metadata": {},
   "source": [
    "Problem Statement 10:\n",
    "\n",
    "Please compute the following:\n",
    "a) P(Z > 1.26), . P(Z < −0.86), P(Z > −1.37), P(−1.25 < Z < 0.37), . P(Z ≤ −4.6)\n",
    "b) Find the value z such that P(Z > z) = 0.05\n",
    "c) Find the value of z such that P(−z < Z < z) = 0.99"
   ]
  },
  {
   "cell_type": "code",
   "execution_count": 67,
   "id": "66500606",
   "metadata": {},
   "outputs": [
    {
     "name": "stdout",
     "output_type": "stream",
     "text": [
      "P(Z > 1.26):  0.10382999999999998\n",
      "P(Z < −0.86):  0.19489\n",
      "P(−1.25 < Z < 0.37):  0.53866\n",
      "P(Z ≤ −4.6):  0.0002\n"
     ]
    }
   ],
   "source": [
    "print('P(Z > 1.26): ', 1-0.89617)\n",
    "print('P(Z < −0.86): ', 0.19489)\n",
    "print('P(−1.25 < Z < 0.37): ', 0.64431-0.10565)\n",
    "print('P(Z ≤ −4.6): ', 0.0002)"
   ]
  },
  {
   "cell_type": "code",
   "execution_count": 66,
   "id": "e7c78f1f",
   "metadata": {},
   "outputs": [
    {
     "name": "stdout",
     "output_type": "stream",
     "text": [
      "Find the value z such that P(Z > z) = 0.05: 1.65\n"
     ]
    }
   ],
   "source": [
    "print('Find the value z such that P(Z > z) = 0.05:',1.65)"
   ]
  },
  {
   "cell_type": "code",
   "execution_count": 68,
   "id": "988fe7c0",
   "metadata": {},
   "outputs": [
    {
     "name": "stdout",
     "output_type": "stream",
     "text": [
      "Find the value of z such that P(−z < Z < z) = 0.99: 0.01\n"
     ]
    }
   ],
   "source": [
    "#P(−z < Z < z) = 0.99\n",
    "#P(Z<z)-P(Z>-z)=0.99\n",
    "print('Find the value of z such that P(−z < Z < z) = 0.99:',0.01)"
   ]
  },
  {
   "cell_type": "raw",
   "id": "1ed43966",
   "metadata": {},
   "source": [
    "Problem Statement 11:\n",
    "\n",
    "The current flow in a copper wire follow a normal distribution with a mean of 10 mA\n",
    "and a variance of 4 (mA)2.\n",
    "What is the probability that a current measurement will exceed 13 mA? What is the\n",
    "probability that a current measurement is between 9 and 11mA? Determine the\n",
    "current measurement which has a probability of 0.98."
   ]
  },
  {
   "cell_type": "code",
   "execution_count": 29,
   "id": "d95b737f",
   "metadata": {
    "scrolled": true
   },
   "outputs": [
    {
     "name": "stdout",
     "output_type": "stream",
     "text": [
      "Z value for current exceed 13 is: 1.5\n",
      "Probability is:  0.06680720126885809\n",
      "probability that a current measurement is between 9 and 11mA is: 0.38292492254802624\n",
      "current measurement which has a probability of 0.98 is: 14.107497821263646\n"
     ]
    }
   ],
   "source": [
    "from scipy import stats\n",
    "from statsmodels.stats.weightstats import ztest\n",
    "mean=10\n",
    "variance=4\n",
    "std=4**0.5\n",
    "x=13\n",
    "z_value=(x-mean)/std\n",
    "print('Z value for current exceed 13 is:',z_value)\n",
    "print('Probability is: ',1-stats.norm.cdf(z_value))\n",
    "y=9\n",
    "z=11\n",
    "z_value_y=(y-mean)/std\n",
    "z_value_z=(z-mean)/std\n",
    "\n",
    "z_y=stats.norm.cdf(z_value_y)\n",
    "z_z=stats.norm.cdf(z_value_z)\n",
    "print(\"probability that a current measurement is between 9 and 11mA is:\",z_z-z_y)\n",
    "zprob=stats.norm.ppf(0.98)\n",
    "current=(zprob*std)+mean\n",
    "print(\"current measurement which has a probability of 0.98 is:\",current)"
   ]
  },
  {
   "cell_type": "raw",
   "id": "f8798898",
   "metadata": {},
   "source": [
    "Problem Statement 12:\n",
    "\n",
    "The shaft in a piston has its diameter normally distributed with a mean of 0.2508 inch\n",
    "and a standard deviation of 0.0005 inch. The specifications of the shaft are 0.2500 ∓\n",
    "0.0015 inch. What proportion of shafts are in sync with the specifications? If the\n",
    "process is centered so that the mean is equal to the target value of 0.2500, what\n",
    "proportion of shafts conform to the new specifications? What is your conclusion from\n",
    "this experiment?"
   ]
  },
  {
   "cell_type": "code",
   "execution_count": 59,
   "id": "cae7d8ef",
   "metadata": {},
   "outputs": [
    {
     "name": "stdout",
     "output_type": "stream",
     "text": [
      "proportion of shafts are in sync with the specifications is:  0.91924122831152\n",
      "proportion of shafts are in sync with the specifications when mean 0.2500 s:  0.9973002039367398\n",
      "Conclusion: when we decrease mean diameter out proportion increases\n"
     ]
    }
   ],
   "source": [
    "m=0.2508\n",
    "std=0.0005\n",
    "x1=0.2500+0.0015\n",
    "x2=0.2500-0.0015\n",
    "z1=(x1-m)/std\n",
    "z2=(x2-mean)/std\n",
    "z1_score=stats.norm.cdf(z1)\n",
    "z2_score=stats.norm.cdf(z2)\n",
    "print('proportion of shafts are in sync with the specifications is: ',z1_score-z2_score)\n",
    "m_new=0.2500\n",
    "z1_new=(x1-m_new)/std\n",
    "z2_new=(x2-m_new)/std\n",
    "z1_new_score=stats.norm.cdf(z1_new)\n",
    "z2_new_score=stats.norm.cdf(z2_new)\n",
    "print('proportion of shafts are in sync with the specifications when mean 0.2500 s: ',z1_new_score-z2_new_score)\n",
    "print('Conclusion: when we decrease mean diameter out proportion increases')"
   ]
  },
  {
   "cell_type": "code",
   "execution_count": null,
   "id": "7c5bbf57",
   "metadata": {},
   "outputs": [],
   "source": []
  },
  {
   "cell_type": "code",
   "execution_count": null,
   "id": "4417f54c",
   "metadata": {},
   "outputs": [],
   "source": []
  },
  {
   "cell_type": "code",
   "execution_count": null,
   "id": "6c6f75f6",
   "metadata": {},
   "outputs": [],
   "source": []
  }
 ],
 "metadata": {
  "kernelspec": {
   "display_name": "Python 3",
   "language": "python",
   "name": "python3"
  },
  "language_info": {
   "codemirror_mode": {
    "name": "ipython",
    "version": 3
   },
   "file_extension": ".py",
   "mimetype": "text/x-python",
   "name": "python",
   "nbconvert_exporter": "python",
   "pygments_lexer": "ipython3",
   "version": "3.8.8"
  }
 },
 "nbformat": 4,
 "nbformat_minor": 5
}
