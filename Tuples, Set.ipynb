{
 "cells": [
  {
   "cell_type": "markdown",
   "id": "d2efa772",
   "metadata": {},
   "source": [
    "# 1.1 Write a Python Program to implement your own myreduce() function which works exactly like Python's built-in function reduce()\n"
   ]
  },
  {
   "cell_type": "code",
   "execution_count": 1,
   "id": "04981543",
   "metadata": {},
   "outputs": [],
   "source": [
    "#function return string with alternate cases\n",
    "word=\"Manish\"\n",
    "def alternatCase(word):\n",
    "    wordl=list(word)\n",
    "    alternate_case=\"\"\n",
    "    for i in range(0,len(wordl),2):\n",
    "        alternate_case=alternate_case+(wordl[i].upper())\n",
    "        if i==len(wordl)-1:\n",
    "            continue\n",
    "        else:\n",
    "            alternate_case=alternate_case+(wordl[i+1].lower())\n",
    "    return alternate_case\n"
   ]
  },
  {
   "cell_type": "code",
   "execution_count": 2,
   "id": "613a6fc1",
   "metadata": {},
   "outputs": [
    {
     "data": {
      "text/plain": [
       "['AaAaAaA', 'AaAaAa', 'AaAaAaAa', 'AaAaAaAa', 'AaAaAaAaAa', 'AaAaAaAaAa']"
      ]
     },
     "execution_count": 2,
     "metadata": {},
     "output_type": "execute_result"
    }
   ],
   "source": [
    "#myreduce function\n",
    "# this function will take list of string \n",
    "def myreduce(fun,l):\n",
    "    list_return=[]\n",
    "    for i in l:\n",
    "        list_return.append(fun(i))\n",
    "    return list_return\n",
    "\n",
    "list_word=[\"AAAAAAA\",\"aaaaaa\",\"aAaAaAaA\",\"AaAaAaAa\",\"aaaaaAAAAA\",\"AAAAAaaaaa\"]\n",
    "myreduce(alternatCase,list_word)"
   ]
  },
  {
   "cell_type": "markdown",
   "id": "fad2d005",
   "metadata": {},
   "source": [
    "# 1.2 Write a Python program to implement your own myfilter() function which works exactly like Python's built-in function filter()\n"
   ]
  },
  {
   "cell_type": "code",
   "execution_count": 3,
   "id": "2bc5e823",
   "metadata": {},
   "outputs": [],
   "source": [
    "#function return boolean values when list contain last element as sum of other remaining elements\n",
    "def lastElementSum(a):\n",
    "    lastElement=a[-1]\n",
    "    remain=a[:-1]\n",
    "    elementsum=sum(remain)\n",
    "    if elementsum==lastElement:\n",
    "        return True\n",
    "    return False"
   ]
  },
  {
   "cell_type": "code",
   "execution_count": 4,
   "id": "4b01852d",
   "metadata": {
    "scrolled": true
   },
   "outputs": [],
   "source": [
    "#myfilter function\n",
    "list1=[[1,2,3,6],[9,8,6,6],[-1,-2,-5,-8],[-4,7,3],[2,3,4,9],[10,20,30,50,40,150]]\n",
    "def myfilter(lastElementSum,l):\n",
    "    filteredList=[]\n",
    "    for i in l:\n",
    "        if lastElementSum(i):\n",
    "            filteredList.append(i)\n",
    "    print(filteredList)\n",
    "     \n",
    "       \n",
    "        "
   ]
  },
  {
   "cell_type": "code",
   "execution_count": 77,
   "id": "5afa6874",
   "metadata": {},
   "outputs": [
    {
     "name": "stdout",
     "output_type": "stream",
     "text": [
      "[[1, 2, 3, 6], [-1, -2, -5, -8], [-4, 7, 3], [2, 3, 4, 9], [10, 20, 30, 50, 40, 150]]\n"
     ]
    }
   ],
   "source": [
    "myfilter(lastElementSum,list1)"
   ]
  },
  {
   "cell_type": "markdown",
   "id": "2561176c",
   "metadata": {},
   "source": [
    "# ['x', 'xx', 'xxx', 'xxxx', 'y', 'yy', 'yyy', 'yyyy', 'z', 'zz', 'zzz', 'zzzz']"
   ]
  },
  {
   "cell_type": "code",
   "execution_count": 60,
   "id": "74474cf8",
   "metadata": {},
   "outputs": [],
   "source": [
    "result_1=['x','y','z']\n"
   ]
  },
  {
   "cell_type": "code",
   "execution_count": 61,
   "id": "45f68e29",
   "metadata": {},
   "outputs": [],
   "source": [
    "res=[]\n",
    "result=[[res.append(a),res.append(2*a),res.append(3*a),res.append(4*a)] for a in result_1]"
   ]
  },
  {
   "cell_type": "code",
   "execution_count": 62,
   "id": "e67a0271",
   "metadata": {},
   "outputs": [
    {
     "name": "stdout",
     "output_type": "stream",
     "text": [
      "['x', 'xx', 'xxx', 'xxxx', 'y', 'yy', 'yyy', 'yyyy', 'z', 'zz', 'zzz', 'zzzz']\n"
     ]
    }
   ],
   "source": [
    "\n",
    "print(res)"
   ]
  },
  {
   "cell_type": "markdown",
   "id": "24573822",
   "metadata": {},
   "source": [
    "# ['x', 'y', 'z', 'xx', 'yy', 'zz', 'xxx', 'yyy', 'zzz', 'xxxx', 'yyyy', 'zzzz']"
   ]
  },
  {
   "cell_type": "code",
   "execution_count": 79,
   "id": "93daf915",
   "metadata": {},
   "outputs": [],
   "source": [
    "res_1=[]\n",
    "for i in range(1,5):\n",
    "    result_2=[[res_1.append(i*x)] for (x) in result_1 ]"
   ]
  },
  {
   "cell_type": "code",
   "execution_count": 90,
   "id": "53619fd5",
   "metadata": {},
   "outputs": [
    {
     "name": "stdout",
     "output_type": "stream",
     "text": [
      "['x', 'y', 'z', 'xx', 'yy', 'zz', 'xxx', 'yyy', 'zzz', 'xxxx', 'yyyy', 'zzzz']\n"
     ]
    }
   ],
   "source": [
    "print(res_1)"
   ]
  },
  {
   "cell_type": "markdown",
   "id": "2c201c9c",
   "metadata": {},
   "source": [
    "# [[2], [3], [4], [3], [4], [5], [4], [5], [6]]"
   ]
  },
  {
   "cell_type": "code",
   "execution_count": 97,
   "id": "bfac114f",
   "metadata": {},
   "outputs": [
    {
     "name": "stdout",
     "output_type": "stream",
     "text": [
      "[[2], [3], [4], [3], [4], [5], [4], [5], [6]]\n"
     ]
    }
   ],
   "source": [
    "a=2\n",
    "res_2=[]\n",
    "for i in range(0,3):\n",
    "    [res_2.append([a+x]) for x in range(0,3)]\n",
    "    a=a+1\n",
    "print(res_2)  "
   ]
  },
  {
   "cell_type": "markdown",
   "id": "31a681f3",
   "metadata": {},
   "source": [
    "# [[2, 3, 4, 5], [3, 4, 5, 6],[4, 5, 6, 7], [5, 6, 7, 8]]"
   ]
  },
  {
   "cell_type": "code",
   "execution_count": 100,
   "id": "db493ebe",
   "metadata": {},
   "outputs": [
    {
     "data": {
      "text/plain": [
       "[[2, 3, 4, 5], [3, 4, 5, 6], [4, 5, 6, 7], [5, 6, 7, 8]]"
      ]
     },
     "execution_count": 100,
     "metadata": {},
     "output_type": "execute_result"
    }
   ],
   "source": [
    "[[x for x in range(i,i+4)] for i in range(2,6)]"
   ]
  },
  {
   "cell_type": "markdown",
   "id": "491e8a54",
   "metadata": {},
   "source": [
    "# [(1, 1), (2, 1), (3, 1), (1, 2), (2, 2), (3, 2), (1, 3), (2, 3), (3, 3)]"
   ]
  },
  {
   "cell_type": "code",
   "execution_count": 101,
   "id": "2dbaa1ca",
   "metadata": {},
   "outputs": [
    {
     "data": {
      "text/plain": [
       "[[(1, 1), (2, 1), (3, 1)], [(1, 2), (2, 2), (3, 2)], [(1, 3), (2, 3), (3, 3)]]"
      ]
     },
     "execution_count": 101,
     "metadata": {},
     "output_type": "execute_result"
    }
   ],
   "source": [
    "[[(x,y) for x in range(1,4)] for y in range(1,4)]"
   ]
  },
  {
   "cell_type": "code",
   "execution_count": 102,
   "id": "0f4988ab",
   "metadata": {},
   "outputs": [
    {
     "data": {
      "text/plain": [
       "'C:\\\\Users\\\\admin\\\\iNeuron\\\\Assignment'"
      ]
     },
     "execution_count": 102,
     "metadata": {},
     "output_type": "execute_result"
    }
   ],
   "source": [
    "pwd()"
   ]
  },
  {
   "cell_type": "code",
   "execution_count": null,
   "id": "a970ab4b",
   "metadata": {},
   "outputs": [],
   "source": []
  }
 ],
 "metadata": {
  "kernelspec": {
   "display_name": "Python 3",
   "language": "python",
   "name": "python3"
  },
  "language_info": {
   "codemirror_mode": {
    "name": "ipython",
    "version": 3
   },
   "file_extension": ".py",
   "mimetype": "text/x-python",
   "name": "python",
   "nbconvert_exporter": "python",
   "pygments_lexer": "ipython3",
   "version": "3.8.8"
  }
 },
 "nbformat": 4,
 "nbformat_minor": 5
}
