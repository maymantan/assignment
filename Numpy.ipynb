{
 "cells": [
  {
   "cell_type": "markdown",
   "id": "f8b56c92",
   "metadata": {},
   "source": [
    "Write a function to find moving average in an array over a window:\n",
    "Test it over [3, 5, 7, 2, 8, 10, 11, 65, 72, 81, 99, 100, 150] and window of 3."
   ]
  },
  {
   "cell_type": "code",
   "execution_count": 24,
   "id": "a71d3863",
   "metadata": {},
   "outputs": [],
   "source": [
    "\n",
    "def get_moving_average(l,n):\n",
    "    moving_avg=[]\n",
    "    for i in range(0,len(l)-n+1):\n",
    "        su=sum(l[i:i+n])\n",
    "        moving_avg.append(su/n)\n",
    "    return moving_avg"
   ]
  },
  {
   "cell_type": "code",
   "execution_count": 25,
   "id": "f34cf5f5",
   "metadata": {},
   "outputs": [
    {
     "data": {
      "text/plain": [
       "[2.5, 3.5, 4.5, 5.5, 6.5, 7.5, 8.5]"
      ]
     },
     "execution_count": 25,
     "metadata": {},
     "output_type": "execute_result"
    }
   ],
   "source": [
    "l=[1,2,3,4,5,6,7,8,9,10]\n",
    "n=4\n",
    "get_moving_average(l,n)\n"
   ]
  },
  {
   "cell_type": "code",
   "execution_count": 26,
   "id": "d8693b46",
   "metadata": {},
   "outputs": [
    {
     "data": {
      "text/plain": [
       "[5.0,\n",
       " 4.666666666666667,\n",
       " 5.666666666666667,\n",
       " 6.666666666666667,\n",
       " 9.666666666666666,\n",
       " 28.666666666666668,\n",
       " 49.333333333333336,\n",
       " 72.66666666666667,\n",
       " 84.0,\n",
       " 93.33333333333333,\n",
       " 116.33333333333333]"
      ]
     },
     "execution_count": 26,
     "metadata": {},
     "output_type": "execute_result"
    }
   ],
   "source": [
    "l_test=[3, 5, 7, 2, 8, 10, 11, 65, 72, 81, 99, 100, 150]\n",
    "n_test=3\n",
    "get_moving_average(l_test,n_test)"
   ]
  },
  {
   "cell_type": "markdown",
   "id": "c9e2c254",
   "metadata": {},
   "source": [
    "Write a function so that the columns of the output matrix are powers of the input\n",
    "vector."
   ]
  },
  {
   "cell_type": "code",
   "execution_count": 52,
   "id": "4204d36b",
   "metadata": {},
   "outputs": [],
   "source": [
    "import numpy as np\n",
    "from numpy.random import randint as ri\n",
    "i_v = ri([1,2,3,4,5])"
   ]
  },
  {
   "cell_type": "code",
   "execution_count": 53,
   "id": "a727329f",
   "metadata": {},
   "outputs": [
    {
     "name": "stdout",
     "output_type": "stream",
     "text": [
      "[[ 0  0  0  0  1]\n",
      " [ 0  0  0  0  1]\n",
      " [16  8  4  2  1]\n",
      " [ 0  0  0  0  1]\n",
      " [81 27  9  3  1]]\n"
     ]
    }
   ],
   "source": [
    "n=(i_v).size\n",
    "\n",
    "m=np.column_stack([(i_v)**(n-i-1) for i in range(n)])\n",
    "print(m)\n"
   ]
  },
  {
   "cell_type": "code",
   "execution_count": null,
   "id": "9156183d",
   "metadata": {},
   "outputs": [],
   "source": []
  }
 ],
 "metadata": {
  "kernelspec": {
   "display_name": "Python 3",
   "language": "python",
   "name": "python3"
  },
  "language_info": {
   "codemirror_mode": {
    "name": "ipython",
    "version": 3
   },
   "file_extension": ".py",
   "mimetype": "text/x-python",
   "name": "python",
   "nbconvert_exporter": "python",
   "pygments_lexer": "ipython3",
   "version": "3.8.8"
  }
 },
 "nbformat": 4,
 "nbformat_minor": 5
}
