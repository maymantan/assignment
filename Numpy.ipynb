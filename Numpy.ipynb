{
 "cells": [
  {
   "cell_type": "markdown",
   "id": "f8b56c92",
   "metadata": {},
   "source": [
    "Write a function to find moving average in an array over a window:\n",
    "Test it over [3, 5, 7, 2, 8, 10, 11, 65, 72, 81, 99, 100, 150] and window of 3."
   ]
  },
  {
   "cell_type": "code",
   "execution_count": 24,
   "id": "7a44b85f",
   "metadata": {},
   "outputs": [],
   "source": [
    "\n",
    "def get_moving_average(l,n):\n",
    "    moving_avg=[]\n",
    "    for i in range(0,len(l)-n+1):\n",
    "        su=sum(l[i:i+n])\n",
    "        moving_avg.append(su/n)\n",
    "    return moving_avg"
   ]
  },
  {
   "cell_type": "code",
   "execution_count": 25,
   "id": "a60bcd42",
   "metadata": {},
   "outputs": [
    {
     "data": {
      "text/plain": [
       "[2.5, 3.5, 4.5, 5.5, 6.5, 7.5, 8.5]"
      ]
     },
     "execution_count": 25,
     "metadata": {},
     "output_type": "execute_result"
    }
   ],
   "source": [
    "l=[1,2,3,4,5,6,7,8,9,10]\n",
    "n=4\n",
    "get_moving_average(l,n)\n"
   ]
  },
  {
   "cell_type": "code",
   "execution_count": 26,
   "id": "39dae04d",
   "metadata": {},
   "outputs": [
    {
     "data": {
      "text/plain": [
       "[5.0,\n",
       " 4.666666666666667,\n",
       " 5.666666666666667,\n",
       " 6.666666666666667,\n",
       " 9.666666666666666,\n",
       " 28.666666666666668,\n",
       " 49.333333333333336,\n",
       " 72.66666666666667,\n",
       " 84.0,\n",
       " 93.33333333333333,\n",
       " 116.33333333333333]"
      ]
     },
     "execution_count": 26,
     "metadata": {},
     "output_type": "execute_result"
    }
   ],
   "source": [
    "l_test=[3, 5, 7, 2, 8, 10, 11, 65, 72, 81, 99, 100, 150]\n",
    "n_test=3\n",
    "get_moving_average(l_test,n_test)"
   ]
  },
  {
   "cell_type": "markdown",
   "id": "bc8dab1e",
   "metadata": {},
   "source": [
    "Write a function so that the columns of the output matrix are powers of the input\n",
    "vector."
   ]
  },
  {
   "cell_type": "code",
   "execution_count": 44,
   "id": "18e33d96",
   "metadata": {},
   "outputs": [],
   "source": [
    "import numpy as np\n",
    "from numpy.random import randint as ri\n",
    "i_v = ri([1,2,3,4,5])"
   ]
  },
  {
   "cell_type": "code",
   "execution_count": 45,
   "id": "84932030",
   "metadata": {},
   "outputs": [
    {
     "data": {
      "text/plain": [
       "array([0, 1, 2, 2, 3])"
      ]
     },
     "execution_count": 45,
     "metadata": {},
     "output_type": "execute_result"
    }
   ],
   "source": [
    "i_v"
   ]
  },
  {
   "cell_type": "code",
   "execution_count": 46,
   "id": "e54aef72",
   "metadata": {},
   "outputs": [
    {
     "ename": "NameError",
     "evalue": "name 'K' is not defined",
     "output_type": "error",
     "traceback": [
      "\u001b[1;31m---------------------------------------------------------------------------\u001b[0m",
      "\u001b[1;31mNameError\u001b[0m                                 Traceback (most recent call last)",
      "\u001b[1;32m<ipython-input-46-77de94fb84eb>\u001b[0m in \u001b[0;36m<module>\u001b[1;34m\u001b[0m\n\u001b[0;32m      1\u001b[0m \u001b[0mres\u001b[0m \u001b[1;33m=\u001b[0m \u001b[1;33m[\u001b[0m\u001b[1;33m]\u001b[0m\u001b[1;33m\u001b[0m\u001b[1;33m\u001b[0m\u001b[0m\n\u001b[1;32m----> 2\u001b[1;33m \u001b[1;32mfor\u001b[0m \u001b[0midx\u001b[0m \u001b[1;32min\u001b[0m \u001b[0mrange\u001b[0m\u001b[1;33m(\u001b[0m\u001b[1;36m1\u001b[0m\u001b[1;33m,\u001b[0m \u001b[1;36m10\u001b[0m\u001b[1;33m,\u001b[0m \u001b[0mK\u001b[0m\u001b[1;33m)\u001b[0m\u001b[1;33m:\u001b[0m\u001b[1;33m\u001b[0m\u001b[1;33m\u001b[0m\u001b[0m\n\u001b[0m\u001b[0;32m      3\u001b[0m     \u001b[0msub\u001b[0m \u001b[1;33m=\u001b[0m \u001b[1;33m[\u001b[0m\u001b[0midx\u001b[0m\u001b[1;33m,\u001b[0m \u001b[0midx\u001b[0m \u001b[1;33m+\u001b[0m \u001b[1;36m1\u001b[0m\u001b[1;33m,\u001b[0m \u001b[0midx\u001b[0m \u001b[1;33m+\u001b[0m \u001b[1;36m2\u001b[0m\u001b[1;33m]\u001b[0m\u001b[1;33m\u001b[0m\u001b[1;33m\u001b[0m\u001b[0m\n\u001b[0;32m      4\u001b[0m     \u001b[0mres\u001b[0m\u001b[1;33m.\u001b[0m\u001b[0mappend\u001b[0m\u001b[1;33m(\u001b[0m\u001b[0msub\u001b[0m\u001b[1;33m)\u001b[0m\u001b[1;33m\u001b[0m\u001b[1;33m\u001b[0m\u001b[0m\n",
      "\u001b[1;31mNameError\u001b[0m: name 'K' is not defined"
     ]
    }
   ],
   "source": [
    "res = []\n",
    "for idx in range(1, 10, K):\n",
    "    sub = [idx, idx + 1, idx + 2]\n",
    "    res.append(sub)"
   ]
  },
  {
   "cell_type": "code",
   "execution_count": 51,
   "id": "095f941e",
   "metadata": {},
   "outputs": [
    {
     "name": "stdout",
     "output_type": "stream",
     "text": [
      "5\n",
      "[[ 0  0  0  0  1]\n",
      " [ 1  1  1  1  1]\n",
      " [16  8  4  2  1]\n",
      " [16  8  4  2  1]\n",
      " [81 27  9  3  1]]\n"
     ]
    }
   ],
   "source": [
    "n=(i_v).size\n",
    "\n",
    "m=np.column_stack([(i_v)**(n-i-1) for i in range(n)])\n",
    "print(m)\n"
   ]
  },
  {
   "cell_type": "code",
   "execution_count": 37,
   "id": "0f71487f",
   "metadata": {},
   "outputs": [
    {
     "name": "stdout",
     "output_type": "stream",
     "text": [
      "[[  1   1   1   1   1]\n",
      " [ 16   8   4   2   1]\n",
      " [ 81  27   9   3   1]\n",
      " [256  64  16   4   1]\n",
      " [625 125  25   5   1]]\n"
     ]
    }
   ],
   "source": [
    "import numpy as np \n",
    "x=np.array([1,2,3,4,5]) \n",
    "N=5 \n",
    "matrix = np.column_stack([x**(N-i-1) for i in range(N)])\n",
    "print(matrix) "
   ]
  },
  {
   "cell_type": "code",
   "execution_count": null,
   "id": "70f903e7",
   "metadata": {},
   "outputs": [],
   "source": []
  }
 ],
 "metadata": {
  "kernelspec": {
   "display_name": "Python 3",
   "language": "python",
   "name": "python3"
  },
  "language_info": {
   "codemirror_mode": {
    "name": "ipython",
    "version": 3
   },
   "file_extension": ".py",
   "mimetype": "text/x-python",
   "name": "python",
   "nbconvert_exporter": "python",
   "pygments_lexer": "ipython3",
   "version": "3.8.8"
  }
 },
 "nbformat": 4,
 "nbformat_minor": 5
}
